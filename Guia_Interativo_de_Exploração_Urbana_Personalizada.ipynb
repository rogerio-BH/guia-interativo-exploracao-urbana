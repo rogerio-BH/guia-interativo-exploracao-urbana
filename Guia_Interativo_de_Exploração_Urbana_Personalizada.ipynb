{
  "nbformat": 4,
  "nbformat_minor": 0,
  "metadata": {
    "colab": {
      "provenance": [],
      "authorship_tag": "ABX9TyMqa9R/mp/C+XpHERXKzHed",
      "include_colab_link": true
    },
    "kernelspec": {
      "name": "python3",
      "display_name": "Python 3"
    },
    "language_info": {
      "name": "python"
    },
    "widgets": {
      "application/vnd.jupyter.widget-state+json": {
        "09d1482127b240f0bc3fdc23982bfa0e": {
          "model_module": "@jupyter-widgets/controls",
          "model_name": "TextModel",
          "model_module_version": "1.5.0",
          "state": {
            "_dom_classes": [],
            "_model_module": "@jupyter-widgets/controls",
            "_model_module_version": "1.5.0",
            "_model_name": "TextModel",
            "_view_count": null,
            "_view_module": "@jupyter-widgets/controls",
            "_view_module_version": "1.5.0",
            "_view_name": "TextView",
            "continuous_update": true,
            "description": "Cidade:",
            "description_tooltip": null,
            "disabled": false,
            "layout": "IPY_MODEL_e3c32b8766314724bb2d3bd57a3a022d",
            "placeholder": "Digite a cidade",
            "style": "IPY_MODEL_0584f1d4a4904723af941ef7acc916a2",
            "value": ""
          }
        },
        "e3c32b8766314724bb2d3bd57a3a022d": {
          "model_module": "@jupyter-widgets/base",
          "model_name": "LayoutModel",
          "model_module_version": "1.2.0",
          "state": {
            "_model_module": "@jupyter-widgets/base",
            "_model_module_version": "1.2.0",
            "_model_name": "LayoutModel",
            "_view_count": null,
            "_view_module": "@jupyter-widgets/base",
            "_view_module_version": "1.2.0",
            "_view_name": "LayoutView",
            "align_content": null,
            "align_items": null,
            "align_self": null,
            "border": null,
            "bottom": null,
            "display": null,
            "flex": null,
            "flex_flow": null,
            "grid_area": null,
            "grid_auto_columns": null,
            "grid_auto_flow": null,
            "grid_auto_rows": null,
            "grid_column": null,
            "grid_gap": null,
            "grid_row": null,
            "grid_template_areas": null,
            "grid_template_columns": null,
            "grid_template_rows": null,
            "height": null,
            "justify_content": null,
            "justify_items": null,
            "left": null,
            "margin": null,
            "max_height": null,
            "max_width": null,
            "min_height": null,
            "min_width": null,
            "object_fit": null,
            "object_position": null,
            "order": null,
            "overflow": null,
            "overflow_x": null,
            "overflow_y": null,
            "padding": null,
            "right": null,
            "top": null,
            "visibility": null,
            "width": null
          }
        },
        "0584f1d4a4904723af941ef7acc916a2": {
          "model_module": "@jupyter-widgets/controls",
          "model_name": "DescriptionStyleModel",
          "model_module_version": "1.5.0",
          "state": {
            "_model_module": "@jupyter-widgets/controls",
            "_model_module_version": "1.5.0",
            "_model_name": "DescriptionStyleModel",
            "_view_count": null,
            "_view_module": "@jupyter-widgets/base",
            "_view_module_version": "1.2.0",
            "_view_name": "StyleView",
            "description_width": ""
          }
        },
        "c48db06595c645b382e7573559a0928f": {
          "model_module": "@jupyter-widgets/controls",
          "model_name": "DropdownModel",
          "model_module_version": "1.5.0",
          "state": {
            "_dom_classes": [],
            "_model_module": "@jupyter-widgets/controls",
            "_model_module_version": "1.5.0",
            "_model_name": "DropdownModel",
            "_options_labels": [
              "História",
              "Gastronomia",
              "Pontos Turísticos",
              "Cultura",
              "Curiosidades",
              "Arte de Rua",
              "Parques e Áreas Naturais",
              "Vida Noturna",
              "Compras",
              "Transporte e Mobilidade",
              "Eventos Atuais",
              "Dicas Locais"
            ],
            "_view_count": null,
            "_view_module": "@jupyter-widgets/controls",
            "_view_module_version": "1.5.0",
            "_view_name": "DropdownView",
            "description": "Categoria:",
            "description_tooltip": null,
            "disabled": false,
            "index": 2,
            "layout": "IPY_MODEL_cc1490bd13da4b9eaf4f6c9029e2e9fc",
            "style": "IPY_MODEL_7ab97dd2316848bc84c76ae8221b5449"
          }
        },
        "cc1490bd13da4b9eaf4f6c9029e2e9fc": {
          "model_module": "@jupyter-widgets/base",
          "model_name": "LayoutModel",
          "model_module_version": "1.2.0",
          "state": {
            "_model_module": "@jupyter-widgets/base",
            "_model_module_version": "1.2.0",
            "_model_name": "LayoutModel",
            "_view_count": null,
            "_view_module": "@jupyter-widgets/base",
            "_view_module_version": "1.2.0",
            "_view_name": "LayoutView",
            "align_content": null,
            "align_items": null,
            "align_self": null,
            "border": null,
            "bottom": null,
            "display": null,
            "flex": null,
            "flex_flow": null,
            "grid_area": null,
            "grid_auto_columns": null,
            "grid_auto_flow": null,
            "grid_auto_rows": null,
            "grid_column": null,
            "grid_gap": null,
            "grid_row": null,
            "grid_template_areas": null,
            "grid_template_columns": null,
            "grid_template_rows": null,
            "height": null,
            "justify_content": null,
            "justify_items": null,
            "left": null,
            "margin": null,
            "max_height": null,
            "max_width": null,
            "min_height": null,
            "min_width": null,
            "object_fit": null,
            "object_position": null,
            "order": null,
            "overflow": null,
            "overflow_x": null,
            "overflow_y": null,
            "padding": null,
            "right": null,
            "top": null,
            "visibility": null,
            "width": null
          }
        },
        "7ab97dd2316848bc84c76ae8221b5449": {
          "model_module": "@jupyter-widgets/controls",
          "model_name": "DescriptionStyleModel",
          "model_module_version": "1.5.0",
          "state": {
            "_model_module": "@jupyter-widgets/controls",
            "_model_module_version": "1.5.0",
            "_model_name": "DescriptionStyleModel",
            "_view_count": null,
            "_view_module": "@jupyter-widgets/base",
            "_view_module_version": "1.2.0",
            "_view_name": "StyleView",
            "description_width": ""
          }
        },
        "196d8ecca46f4310b7cf3799edd02414": {
          "model_module": "@jupyter-widgets/controls",
          "model_name": "IntSliderModel",
          "model_module_version": "1.5.0",
          "state": {
            "_dom_classes": [],
            "_model_module": "@jupyter-widgets/controls",
            "_model_module_version": "1.5.0",
            "_model_name": "IntSliderModel",
            "_view_count": null,
            "_view_module": "@jupyter-widgets/controls",
            "_view_module_version": "1.5.0",
            "_view_name": "IntSliderView",
            "continuous_update": false,
            "description": "Nº de Pontos:",
            "description_tooltip": null,
            "disabled": false,
            "layout": "IPY_MODEL_0bf46e91633a438db69943559a43cb5e",
            "max": 5,
            "min": 1,
            "orientation": "horizontal",
            "readout": true,
            "readout_format": "d",
            "step": 1,
            "style": "IPY_MODEL_2375f38a5c234daebc1409a7981ea4e4",
            "value": 3
          }
        },
        "0bf46e91633a438db69943559a43cb5e": {
          "model_module": "@jupyter-widgets/base",
          "model_name": "LayoutModel",
          "model_module_version": "1.2.0",
          "state": {
            "_model_module": "@jupyter-widgets/base",
            "_model_module_version": "1.2.0",
            "_model_name": "LayoutModel",
            "_view_count": null,
            "_view_module": "@jupyter-widgets/base",
            "_view_module_version": "1.2.0",
            "_view_name": "LayoutView",
            "align_content": null,
            "align_items": null,
            "align_self": null,
            "border": null,
            "bottom": null,
            "display": null,
            "flex": null,
            "flex_flow": null,
            "grid_area": null,
            "grid_auto_columns": null,
            "grid_auto_flow": null,
            "grid_auto_rows": null,
            "grid_column": null,
            "grid_gap": null,
            "grid_row": null,
            "grid_template_areas": null,
            "grid_template_columns": null,
            "grid_template_rows": null,
            "height": null,
            "justify_content": null,
            "justify_items": null,
            "left": null,
            "margin": null,
            "max_height": null,
            "max_width": null,
            "min_height": null,
            "min_width": null,
            "object_fit": null,
            "object_position": null,
            "order": null,
            "overflow": null,
            "overflow_x": null,
            "overflow_y": null,
            "padding": null,
            "right": null,
            "top": null,
            "visibility": null,
            "width": null
          }
        },
        "2375f38a5c234daebc1409a7981ea4e4": {
          "model_module": "@jupyter-widgets/controls",
          "model_name": "SliderStyleModel",
          "model_module_version": "1.5.0",
          "state": {
            "_model_module": "@jupyter-widgets/controls",
            "_model_module_version": "1.5.0",
            "_model_name": "SliderStyleModel",
            "_view_count": null,
            "_view_module": "@jupyter-widgets/base",
            "_view_module_version": "1.2.0",
            "_view_name": "StyleView",
            "description_width": "",
            "handle_color": null
          }
        },
        "3c13a2adf8e4476eb144e897d7f83f79": {
          "model_module": "@jupyter-widgets/controls",
          "model_name": "ButtonModel",
          "model_module_version": "1.5.0",
          "state": {
            "_dom_classes": [],
            "_model_module": "@jupyter-widgets/controls",
            "_model_module_version": "1.5.0",
            "_model_name": "ButtonModel",
            "_view_count": null,
            "_view_module": "@jupyter-widgets/controls",
            "_view_module_version": "1.5.0",
            "_view_name": "ButtonView",
            "button_style": "",
            "description": "Gerar Informação",
            "disabled": false,
            "icon": "",
            "layout": "IPY_MODEL_d0c1106b8ceb46f893f683cc7d43c319",
            "style": "IPY_MODEL_6af3f3fd558e43ae8d5f3a2172210e99",
            "tooltip": ""
          }
        },
        "d0c1106b8ceb46f893f683cc7d43c319": {
          "model_module": "@jupyter-widgets/base",
          "model_name": "LayoutModel",
          "model_module_version": "1.2.0",
          "state": {
            "_model_module": "@jupyter-widgets/base",
            "_model_module_version": "1.2.0",
            "_model_name": "LayoutModel",
            "_view_count": null,
            "_view_module": "@jupyter-widgets/base",
            "_view_module_version": "1.2.0",
            "_view_name": "LayoutView",
            "align_content": null,
            "align_items": null,
            "align_self": null,
            "border": null,
            "bottom": null,
            "display": null,
            "flex": null,
            "flex_flow": null,
            "grid_area": null,
            "grid_auto_columns": null,
            "grid_auto_flow": null,
            "grid_auto_rows": null,
            "grid_column": null,
            "grid_gap": null,
            "grid_row": null,
            "grid_template_areas": null,
            "grid_template_columns": null,
            "grid_template_rows": null,
            "height": null,
            "justify_content": null,
            "justify_items": null,
            "left": null,
            "margin": null,
            "max_height": null,
            "max_width": null,
            "min_height": null,
            "min_width": null,
            "object_fit": null,
            "object_position": null,
            "order": null,
            "overflow": null,
            "overflow_x": null,
            "overflow_y": null,
            "padding": null,
            "right": null,
            "top": null,
            "visibility": null,
            "width": null
          }
        },
        "6af3f3fd558e43ae8d5f3a2172210e99": {
          "model_module": "@jupyter-widgets/controls",
          "model_name": "ButtonStyleModel",
          "model_module_version": "1.5.0",
          "state": {
            "_model_module": "@jupyter-widgets/controls",
            "_model_module_version": "1.5.0",
            "_model_name": "ButtonStyleModel",
            "_view_count": null,
            "_view_module": "@jupyter-widgets/base",
            "_view_module_version": "1.2.0",
            "_view_name": "StyleView",
            "button_color": null,
            "font_weight": ""
          }
        },
        "20ee88a1778c438b8457e3d6d3f45552": {
          "model_module": "@jupyter-widgets/controls",
          "model_name": "DropdownModel",
          "model_module_version": "1.5.0",
          "state": {
            "_dom_classes": [],
            "_model_module": "@jupyter-widgets/controls",
            "_model_module_version": "1.5.0",
            "_model_name": "DropdownModel",
            "_options_labels": [
              ""
            ],
            "_view_count": null,
            "_view_module": "@jupyter-widgets/controls",
            "_view_module_version": "1.5.0",
            "_view_name": "DropdownView",
            "description": "Detalhes do Ponto:",
            "description_tooltip": null,
            "disabled": true,
            "index": 0,
            "layout": "IPY_MODEL_cbf2257fb51d4a929359a379f216694b",
            "style": "IPY_MODEL_794842672db0436fa2e26c7ecf62c55d"
          }
        },
        "cbf2257fb51d4a929359a379f216694b": {
          "model_module": "@jupyter-widgets/base",
          "model_name": "LayoutModel",
          "model_module_version": "1.2.0",
          "state": {
            "_model_module": "@jupyter-widgets/base",
            "_model_module_version": "1.2.0",
            "_model_name": "LayoutModel",
            "_view_count": null,
            "_view_module": "@jupyter-widgets/base",
            "_view_module_version": "1.2.0",
            "_view_name": "LayoutView",
            "align_content": null,
            "align_items": null,
            "align_self": null,
            "border": null,
            "bottom": null,
            "display": null,
            "flex": null,
            "flex_flow": null,
            "grid_area": null,
            "grid_auto_columns": null,
            "grid_auto_flow": null,
            "grid_auto_rows": null,
            "grid_column": null,
            "grid_gap": null,
            "grid_row": null,
            "grid_template_areas": null,
            "grid_template_columns": null,
            "grid_template_rows": null,
            "height": null,
            "justify_content": null,
            "justify_items": null,
            "left": null,
            "margin": null,
            "max_height": null,
            "max_width": null,
            "min_height": null,
            "min_width": null,
            "object_fit": null,
            "object_position": null,
            "order": null,
            "overflow": null,
            "overflow_x": null,
            "overflow_y": null,
            "padding": null,
            "right": null,
            "top": null,
            "visibility": null,
            "width": null
          }
        },
        "794842672db0436fa2e26c7ecf62c55d": {
          "model_module": "@jupyter-widgets/controls",
          "model_name": "DescriptionStyleModel",
          "model_module_version": "1.5.0",
          "state": {
            "_model_module": "@jupyter-widgets/controls",
            "_model_module_version": "1.5.0",
            "_model_name": "DescriptionStyleModel",
            "_view_count": null,
            "_view_module": "@jupyter-widgets/base",
            "_view_module_version": "1.2.0",
            "_view_name": "StyleView",
            "description_width": ""
          }
        },
        "7e67cd75494e4e93a3ae0742cbfa9303": {
          "model_module": "@jupyter-widgets/controls",
          "model_name": "ButtonModel",
          "model_module_version": "1.5.0",
          "state": {
            "_dom_classes": [],
            "_model_module": "@jupyter-widgets/controls",
            "_model_module_version": "1.5.0",
            "_model_name": "ButtonModel",
            "_view_count": null,
            "_view_module": "@jupyter-widgets/controls",
            "_view_module_version": "1.5.0",
            "_view_name": "ButtonView",
            "button_style": "",
            "description": "Ver Mais Detalhes",
            "disabled": false,
            "icon": "",
            "layout": "IPY_MODEL_f193ae9002de48d999dbc0e3ff7722d7",
            "style": "IPY_MODEL_5035fa3d80b44374a33a28a35e59562c",
            "tooltip": ""
          }
        },
        "f193ae9002de48d999dbc0e3ff7722d7": {
          "model_module": "@jupyter-widgets/base",
          "model_name": "LayoutModel",
          "model_module_version": "1.2.0",
          "state": {
            "_model_module": "@jupyter-widgets/base",
            "_model_module_version": "1.2.0",
            "_model_name": "LayoutModel",
            "_view_count": null,
            "_view_module": "@jupyter-widgets/base",
            "_view_module_version": "1.2.0",
            "_view_name": "LayoutView",
            "align_content": null,
            "align_items": null,
            "align_self": null,
            "border": null,
            "bottom": null,
            "display": null,
            "flex": null,
            "flex_flow": null,
            "grid_area": null,
            "grid_auto_columns": null,
            "grid_auto_flow": null,
            "grid_auto_rows": null,
            "grid_column": null,
            "grid_gap": null,
            "grid_row": null,
            "grid_template_areas": null,
            "grid_template_columns": null,
            "grid_template_rows": null,
            "height": null,
            "justify_content": null,
            "justify_items": null,
            "left": null,
            "margin": null,
            "max_height": null,
            "max_width": null,
            "min_height": null,
            "min_width": null,
            "object_fit": null,
            "object_position": null,
            "order": null,
            "overflow": null,
            "overflow_x": null,
            "overflow_y": null,
            "padding": null,
            "right": null,
            "top": null,
            "visibility": null,
            "width": null
          }
        },
        "5035fa3d80b44374a33a28a35e59562c": {
          "model_module": "@jupyter-widgets/controls",
          "model_name": "ButtonStyleModel",
          "model_module_version": "1.5.0",
          "state": {
            "_model_module": "@jupyter-widgets/controls",
            "_model_module_version": "1.5.0",
            "_model_name": "ButtonStyleModel",
            "_view_count": null,
            "_view_module": "@jupyter-widgets/base",
            "_view_module_version": "1.2.0",
            "_view_name": "StyleView",
            "button_color": null,
            "font_weight": ""
          }
        },
        "ef85fbe2884642fba48257bf363859a4": {
          "model_module": "@jupyter-widgets/controls",
          "model_name": "LabelModel",
          "model_module_version": "1.5.0",
          "state": {
            "_dom_classes": [],
            "_model_module": "@jupyter-widgets/controls",
            "_model_module_version": "1.5.0",
            "_model_name": "LabelModel",
            "_view_count": null,
            "_view_module": "@jupyter-widgets/controls",
            "_view_module_version": "1.5.0",
            "_view_name": "LabelView",
            "description": "",
            "description_tooltip": null,
            "layout": "IPY_MODEL_608b8f208ede4511924cb0df077ff65d",
            "placeholder": "​",
            "style": "IPY_MODEL_b52d8ebf61e741ff8add9afb1cda7e50",
            "value": ""
          }
        },
        "608b8f208ede4511924cb0df077ff65d": {
          "model_module": "@jupyter-widgets/base",
          "model_name": "LayoutModel",
          "model_module_version": "1.2.0",
          "state": {
            "_model_module": "@jupyter-widgets/base",
            "_model_module_version": "1.2.0",
            "_model_name": "LayoutModel",
            "_view_count": null,
            "_view_module": "@jupyter-widgets/base",
            "_view_module_version": "1.2.0",
            "_view_name": "LayoutView",
            "align_content": null,
            "align_items": null,
            "align_self": null,
            "border": null,
            "bottom": null,
            "display": null,
            "flex": null,
            "flex_flow": null,
            "grid_area": null,
            "grid_auto_columns": null,
            "grid_auto_flow": null,
            "grid_auto_rows": null,
            "grid_column": null,
            "grid_gap": null,
            "grid_row": null,
            "grid_template_areas": null,
            "grid_template_columns": null,
            "grid_template_rows": null,
            "height": null,
            "justify_content": null,
            "justify_items": null,
            "left": null,
            "margin": null,
            "max_height": null,
            "max_width": null,
            "min_height": null,
            "min_width": null,
            "object_fit": null,
            "object_position": null,
            "order": null,
            "overflow": null,
            "overflow_x": null,
            "overflow_y": null,
            "padding": null,
            "right": null,
            "top": null,
            "visibility": null,
            "width": null
          }
        },
        "b52d8ebf61e741ff8add9afb1cda7e50": {
          "model_module": "@jupyter-widgets/controls",
          "model_name": "DescriptionStyleModel",
          "model_module_version": "1.5.0",
          "state": {
            "_model_module": "@jupyter-widgets/controls",
            "_model_module_version": "1.5.0",
            "_model_name": "DescriptionStyleModel",
            "_view_count": null,
            "_view_module": "@jupyter-widgets/base",
            "_view_module_version": "1.2.0",
            "_view_name": "StyleView",
            "description_width": ""
          }
        },
        "ca29d08156f3418486979d9c9a0a34ec": {
          "model_module": "@jupyter-widgets/controls",
          "model_name": "LabelModel",
          "model_module_version": "1.5.0",
          "state": {
            "_dom_classes": [],
            "_model_module": "@jupyter-widgets/controls",
            "_model_module_version": "1.5.0",
            "_model_name": "LabelModel",
            "_view_count": null,
            "_view_module": "@jupyter-widgets/controls",
            "_view_module_version": "1.5.0",
            "_view_name": "LabelView",
            "description": "",
            "description_tooltip": null,
            "layout": "IPY_MODEL_50cc8914e63f44e8b54c6e4b22e68147",
            "placeholder": "​",
            "style": "IPY_MODEL_a292fd45fb394eff8f2391e10062d82f",
            "value": ""
          }
        },
        "50cc8914e63f44e8b54c6e4b22e68147": {
          "model_module": "@jupyter-widgets/base",
          "model_name": "LayoutModel",
          "model_module_version": "1.2.0",
          "state": {
            "_model_module": "@jupyter-widgets/base",
            "_model_module_version": "1.2.0",
            "_model_name": "LayoutModel",
            "_view_count": null,
            "_view_module": "@jupyter-widgets/base",
            "_view_module_version": "1.2.0",
            "_view_name": "LayoutView",
            "align_content": null,
            "align_items": null,
            "align_self": null,
            "border": null,
            "bottom": null,
            "display": null,
            "flex": null,
            "flex_flow": null,
            "grid_area": null,
            "grid_auto_columns": null,
            "grid_auto_flow": null,
            "grid_auto_rows": null,
            "grid_column": null,
            "grid_gap": null,
            "grid_row": null,
            "grid_template_areas": null,
            "grid_template_columns": null,
            "grid_template_rows": null,
            "height": null,
            "justify_content": null,
            "justify_items": null,
            "left": null,
            "margin": null,
            "max_height": null,
            "max_width": null,
            "min_height": null,
            "min_width": null,
            "object_fit": null,
            "object_position": null,
            "order": null,
            "overflow": null,
            "overflow_x": null,
            "overflow_y": null,
            "padding": null,
            "right": null,
            "top": null,
            "visibility": null,
            "width": null
          }
        },
        "a292fd45fb394eff8f2391e10062d82f": {
          "model_module": "@jupyter-widgets/controls",
          "model_name": "DescriptionStyleModel",
          "model_module_version": "1.5.0",
          "state": {
            "_model_module": "@jupyter-widgets/controls",
            "_model_module_version": "1.5.0",
            "_model_name": "DescriptionStyleModel",
            "_view_count": null,
            "_view_module": "@jupyter-widgets/base",
            "_view_module_version": "1.2.0",
            "_view_name": "StyleView",
            "description_width": ""
          }
        },
        "7343ba70ec2d4b4d9e1ff9728963f5be": {
          "model_module": "@jupyter-widgets/controls",
          "model_name": "LabelModel",
          "model_module_version": "1.5.0",
          "state": {
            "_dom_classes": [],
            "_model_module": "@jupyter-widgets/controls",
            "_model_module_version": "1.5.0",
            "_model_name": "LabelModel",
            "_view_count": null,
            "_view_module": "@jupyter-widgets/controls",
            "_view_module_version": "1.5.0",
            "_view_name": "LabelView",
            "description": "",
            "description_tooltip": null,
            "layout": "IPY_MODEL_83a74684ba484af1869e2225b4f08a67",
            "placeholder": "​",
            "style": "IPY_MODEL_98cbee1a95e443fa87dc9b18d46c4de6",
            "value": "Compartilhe suas dicas e informações adicionais:"
          }
        },
        "83a74684ba484af1869e2225b4f08a67": {
          "model_module": "@jupyter-widgets/base",
          "model_name": "LayoutModel",
          "model_module_version": "1.2.0",
          "state": {
            "_model_module": "@jupyter-widgets/base",
            "_model_module_version": "1.2.0",
            "_model_name": "LayoutModel",
            "_view_count": null,
            "_view_module": "@jupyter-widgets/base",
            "_view_module_version": "1.2.0",
            "_view_name": "LayoutView",
            "align_content": null,
            "align_items": null,
            "align_self": null,
            "border": null,
            "bottom": null,
            "display": null,
            "flex": null,
            "flex_flow": null,
            "grid_area": null,
            "grid_auto_columns": null,
            "grid_auto_flow": null,
            "grid_auto_rows": null,
            "grid_column": null,
            "grid_gap": null,
            "grid_row": null,
            "grid_template_areas": null,
            "grid_template_columns": null,
            "grid_template_rows": null,
            "height": null,
            "justify_content": null,
            "justify_items": null,
            "left": null,
            "margin": null,
            "max_height": null,
            "max_width": null,
            "min_height": null,
            "min_width": null,
            "object_fit": null,
            "object_position": null,
            "order": null,
            "overflow": null,
            "overflow_x": null,
            "overflow_y": null,
            "padding": null,
            "right": null,
            "top": null,
            "visibility": null,
            "width": null
          }
        },
        "98cbee1a95e443fa87dc9b18d46c4de6": {
          "model_module": "@jupyter-widgets/controls",
          "model_name": "DescriptionStyleModel",
          "model_module_version": "1.5.0",
          "state": {
            "_model_module": "@jupyter-widgets/controls",
            "_model_module_version": "1.5.0",
            "_model_name": "DescriptionStyleModel",
            "_view_count": null,
            "_view_module": "@jupyter-widgets/base",
            "_view_module_version": "1.2.0",
            "_view_name": "StyleView",
            "description_width": ""
          }
        },
        "0a9994e3803f4683b94ae8631a0f0b1b": {
          "model_module": "@jupyter-widgets/controls",
          "model_name": "TextareaModel",
          "model_module_version": "1.5.0",
          "state": {
            "_dom_classes": [],
            "_model_module": "@jupyter-widgets/controls",
            "_model_module_version": "1.5.0",
            "_model_name": "TextareaModel",
            "_view_count": null,
            "_view_module": "@jupyter-widgets/controls",
            "_view_module_version": "1.5.0",
            "_view_name": "TextareaView",
            "continuous_update": true,
            "description": "Sugestão:",
            "description_tooltip": null,
            "disabled": false,
            "layout": "IPY_MODEL_497f9d1a0da344a59e7729cd9dd0446e",
            "placeholder": "Digite sua sugestão aqui...",
            "rows": 3,
            "style": "IPY_MODEL_ee28be45ae5d444bbabe48a0c0bf0d37",
            "value": ""
          }
        },
        "497f9d1a0da344a59e7729cd9dd0446e": {
          "model_module": "@jupyter-widgets/base",
          "model_name": "LayoutModel",
          "model_module_version": "1.2.0",
          "state": {
            "_model_module": "@jupyter-widgets/base",
            "_model_module_version": "1.2.0",
            "_model_name": "LayoutModel",
            "_view_count": null,
            "_view_module": "@jupyter-widgets/base",
            "_view_module_version": "1.2.0",
            "_view_name": "LayoutView",
            "align_content": null,
            "align_items": null,
            "align_self": null,
            "border": null,
            "bottom": null,
            "display": null,
            "flex": null,
            "flex_flow": null,
            "grid_area": null,
            "grid_auto_columns": null,
            "grid_auto_flow": null,
            "grid_auto_rows": null,
            "grid_column": null,
            "grid_gap": null,
            "grid_row": null,
            "grid_template_areas": null,
            "grid_template_columns": null,
            "grid_template_rows": null,
            "height": null,
            "justify_content": null,
            "justify_items": null,
            "left": null,
            "margin": null,
            "max_height": null,
            "max_width": null,
            "min_height": null,
            "min_width": null,
            "object_fit": null,
            "object_position": null,
            "order": null,
            "overflow": null,
            "overflow_x": null,
            "overflow_y": null,
            "padding": null,
            "right": null,
            "top": null,
            "visibility": null,
            "width": null
          }
        },
        "ee28be45ae5d444bbabe48a0c0bf0d37": {
          "model_module": "@jupyter-widgets/controls",
          "model_name": "DescriptionStyleModel",
          "model_module_version": "1.5.0",
          "state": {
            "_model_module": "@jupyter-widgets/controls",
            "_model_module_version": "1.5.0",
            "_model_name": "DescriptionStyleModel",
            "_view_count": null,
            "_view_module": "@jupyter-widgets/base",
            "_view_module_version": "1.2.0",
            "_view_name": "StyleView",
            "description_width": ""
          }
        },
        "87e5dc9258b44cae8b08022a36ab522a": {
          "model_module": "@jupyter-widgets/controls",
          "model_name": "LabelModel",
          "model_module_version": "1.5.0",
          "state": {
            "_dom_classes": [],
            "_model_module": "@jupyter-widgets/controls",
            "_model_module_version": "1.5.0",
            "_model_name": "LabelModel",
            "_view_count": null,
            "_view_module": "@jupyter-widgets/controls",
            "_view_module_version": "1.5.0",
            "_view_name": "LabelView",
            "description": "",
            "description_tooltip": null,
            "layout": "IPY_MODEL_0942778be6934f43b15aef1160c81ed8",
            "placeholder": "​",
            "style": "IPY_MODEL_61698166257e49e88d82dc92b565463c",
            "value": "Sobre qual ponto?"
          }
        },
        "0942778be6934f43b15aef1160c81ed8": {
          "model_module": "@jupyter-widgets/base",
          "model_name": "LayoutModel",
          "model_module_version": "1.2.0",
          "state": {
            "_model_module": "@jupyter-widgets/base",
            "_model_module_version": "1.2.0",
            "_model_name": "LayoutModel",
            "_view_count": null,
            "_view_module": "@jupyter-widgets/base",
            "_view_module_version": "1.2.0",
            "_view_name": "LayoutView",
            "align_content": null,
            "align_items": null,
            "align_self": null,
            "border": null,
            "bottom": null,
            "display": null,
            "flex": null,
            "flex_flow": null,
            "grid_area": null,
            "grid_auto_columns": null,
            "grid_auto_flow": null,
            "grid_auto_rows": null,
            "grid_column": null,
            "grid_gap": null,
            "grid_row": null,
            "grid_template_areas": null,
            "grid_template_columns": null,
            "grid_template_rows": null,
            "height": null,
            "justify_content": null,
            "justify_items": null,
            "left": null,
            "margin": null,
            "max_height": null,
            "max_width": null,
            "min_height": null,
            "min_width": null,
            "object_fit": null,
            "object_position": null,
            "order": null,
            "overflow": null,
            "overflow_x": null,
            "overflow_y": null,
            "padding": null,
            "right": null,
            "top": null,
            "visibility": null,
            "width": null
          }
        },
        "61698166257e49e88d82dc92b565463c": {
          "model_module": "@jupyter-widgets/controls",
          "model_name": "DescriptionStyleModel",
          "model_module_version": "1.5.0",
          "state": {
            "_model_module": "@jupyter-widgets/controls",
            "_model_module_version": "1.5.0",
            "_model_name": "DescriptionStyleModel",
            "_view_count": null,
            "_view_module": "@jupyter-widgets/base",
            "_view_module_version": "1.2.0",
            "_view_name": "StyleView",
            "description_width": ""
          }
        },
        "78722b27c54648e7b44685f73d07e98f": {
          "model_module": "@jupyter-widgets/controls",
          "model_name": "TextModel",
          "model_module_version": "1.5.0",
          "state": {
            "_dom_classes": [],
            "_model_module": "@jupyter-widgets/controls",
            "_model_module_version": "1.5.0",
            "_model_name": "TextModel",
            "_view_count": null,
            "_view_module": "@jupyter-widgets/controls",
            "_view_module_version": "1.5.0",
            "_view_name": "TextView",
            "continuous_update": true,
            "description": "Ponto:",
            "description_tooltip": null,
            "disabled": false,
            "layout": "IPY_MODEL_f1b7a338e0f9453a8856fa3fb6348ff2",
            "placeholder": "Nome do ponto...",
            "style": "IPY_MODEL_3a17bff44f33400fa6f226f57fb70816",
            "value": ""
          }
        },
        "f1b7a338e0f9453a8856fa3fb6348ff2": {
          "model_module": "@jupyter-widgets/base",
          "model_name": "LayoutModel",
          "model_module_version": "1.2.0",
          "state": {
            "_model_module": "@jupyter-widgets/base",
            "_model_module_version": "1.2.0",
            "_model_name": "LayoutModel",
            "_view_count": null,
            "_view_module": "@jupyter-widgets/base",
            "_view_module_version": "1.2.0",
            "_view_name": "LayoutView",
            "align_content": null,
            "align_items": null,
            "align_self": null,
            "border": null,
            "bottom": null,
            "display": null,
            "flex": null,
            "flex_flow": null,
            "grid_area": null,
            "grid_auto_columns": null,
            "grid_auto_flow": null,
            "grid_auto_rows": null,
            "grid_column": null,
            "grid_gap": null,
            "grid_row": null,
            "grid_template_areas": null,
            "grid_template_columns": null,
            "grid_template_rows": null,
            "height": null,
            "justify_content": null,
            "justify_items": null,
            "left": null,
            "margin": null,
            "max_height": null,
            "max_width": null,
            "min_height": null,
            "min_width": null,
            "object_fit": null,
            "object_position": null,
            "order": null,
            "overflow": null,
            "overflow_x": null,
            "overflow_y": null,
            "padding": null,
            "right": null,
            "top": null,
            "visibility": null,
            "width": null
          }
        },
        "3a17bff44f33400fa6f226f57fb70816": {
          "model_module": "@jupyter-widgets/controls",
          "model_name": "DescriptionStyleModel",
          "model_module_version": "1.5.0",
          "state": {
            "_model_module": "@jupyter-widgets/controls",
            "_model_module_version": "1.5.0",
            "_model_name": "DescriptionStyleModel",
            "_view_count": null,
            "_view_module": "@jupyter-widgets/base",
            "_view_module_version": "1.2.0",
            "_view_name": "StyleView",
            "description_width": ""
          }
        },
        "2e978d9ee0d9474f9dc0faae230beed3": {
          "model_module": "@jupyter-widgets/controls",
          "model_name": "ButtonModel",
          "model_module_version": "1.5.0",
          "state": {
            "_dom_classes": [],
            "_model_module": "@jupyter-widgets/controls",
            "_model_module_version": "1.5.0",
            "_model_name": "ButtonModel",
            "_view_count": null,
            "_view_module": "@jupyter-widgets/controls",
            "_view_module_version": "1.5.0",
            "_view_name": "ButtonView",
            "button_style": "",
            "description": "Enviar Sugestão",
            "disabled": false,
            "icon": "",
            "layout": "IPY_MODEL_9044f5f4d6b7462fa8434744c95a202d",
            "style": "IPY_MODEL_2e7be43a23d646caae53d941fe74077c",
            "tooltip": ""
          }
        },
        "9044f5f4d6b7462fa8434744c95a202d": {
          "model_module": "@jupyter-widgets/base",
          "model_name": "LayoutModel",
          "model_module_version": "1.2.0",
          "state": {
            "_model_module": "@jupyter-widgets/base",
            "_model_module_version": "1.2.0",
            "_model_name": "LayoutModel",
            "_view_count": null,
            "_view_module": "@jupyter-widgets/base",
            "_view_module_version": "1.2.0",
            "_view_name": "LayoutView",
            "align_content": null,
            "align_items": null,
            "align_self": null,
            "border": null,
            "bottom": null,
            "display": null,
            "flex": null,
            "flex_flow": null,
            "grid_area": null,
            "grid_auto_columns": null,
            "grid_auto_flow": null,
            "grid_auto_rows": null,
            "grid_column": null,
            "grid_gap": null,
            "grid_row": null,
            "grid_template_areas": null,
            "grid_template_columns": null,
            "grid_template_rows": null,
            "height": null,
            "justify_content": null,
            "justify_items": null,
            "left": null,
            "margin": null,
            "max_height": null,
            "max_width": null,
            "min_height": null,
            "min_width": null,
            "object_fit": null,
            "object_position": null,
            "order": null,
            "overflow": null,
            "overflow_x": null,
            "overflow_y": null,
            "padding": null,
            "right": null,
            "top": null,
            "visibility": null,
            "width": null
          }
        },
        "2e7be43a23d646caae53d941fe74077c": {
          "model_module": "@jupyter-widgets/controls",
          "model_name": "ButtonStyleModel",
          "model_module_version": "1.5.0",
          "state": {
            "_model_module": "@jupyter-widgets/controls",
            "_model_module_version": "1.5.0",
            "_model_name": "ButtonStyleModel",
            "_view_count": null,
            "_view_module": "@jupyter-widgets/base",
            "_view_module_version": "1.2.0",
            "_view_name": "StyleView",
            "button_color": null,
            "font_weight": ""
          }
        },
        "10eeda29ee0d45a88bf7d148fe78475e": {
          "model_module": "@jupyter-widgets/output",
          "model_name": "OutputModel",
          "model_module_version": "1.0.0",
          "state": {
            "_dom_classes": [],
            "_model_module": "@jupyter-widgets/output",
            "_model_module_version": "1.0.0",
            "_model_name": "OutputModel",
            "_view_count": null,
            "_view_module": "@jupyter-widgets/output",
            "_view_module_version": "1.0.0",
            "_view_name": "OutputView",
            "layout": "IPY_MODEL_94de471e89c24efa9b0fdfe23a94a603",
            "msg_id": "",
            "outputs": []
          }
        },
        "94de471e89c24efa9b0fdfe23a94a603": {
          "model_module": "@jupyter-widgets/base",
          "model_name": "LayoutModel",
          "model_module_version": "1.2.0",
          "state": {
            "_model_module": "@jupyter-widgets/base",
            "_model_module_version": "1.2.0",
            "_model_name": "LayoutModel",
            "_view_count": null,
            "_view_module": "@jupyter-widgets/base",
            "_view_module_version": "1.2.0",
            "_view_name": "LayoutView",
            "align_content": null,
            "align_items": null,
            "align_self": null,
            "border": null,
            "bottom": null,
            "display": null,
            "flex": null,
            "flex_flow": null,
            "grid_area": null,
            "grid_auto_columns": null,
            "grid_auto_flow": null,
            "grid_auto_rows": null,
            "grid_column": null,
            "grid_gap": null,
            "grid_row": null,
            "grid_template_areas": null,
            "grid_template_columns": null,
            "grid_template_rows": null,
            "height": null,
            "justify_content": null,
            "justify_items": null,
            "left": null,
            "margin": null,
            "max_height": null,
            "max_width": null,
            "min_height": null,
            "min_width": null,
            "object_fit": null,
            "object_position": null,
            "order": null,
            "overflow": null,
            "overflow_x": null,
            "overflow_y": null,
            "padding": null,
            "right": null,
            "top": null,
            "visibility": null,
            "width": null
          }
        }
      }
    }
  },
  "cells": [
    {
      "cell_type": "markdown",
      "metadata": {
        "id": "view-in-github",
        "colab_type": "text"
      },
      "source": [
        "<a href=\"https://colab.research.google.com/github/rogerio-BH/guia-interativo-exploracao-urbana/blob/main/Guia_Interativo_de_Explora%C3%A7%C3%A3o_Urbana_Personalizada.ipynb\" target=\"_parent\"><img src=\"https://colab.research.google.com/assets/colab-badge.svg\" alt=\"Open In Colab\"/></a>"
      ]
    },
    {
      "cell_type": "code",
      "execution_count": 18,
      "metadata": {
        "colab": {
          "base_uri": "https://localhost:8080/"
        },
        "collapsed": true,
        "id": "dGaiTAhjPz8n",
        "outputId": "b670dde2-ae38-4590-9172-d537ba11efad"
      },
      "outputs": [
        {
          "output_type": "stream",
          "name": "stdout",
          "text": [
            "Requirement already satisfied: google-generativeai in /usr/local/lib/python3.11/dist-packages (0.8.5)\n",
            "Requirement already satisfied: google-ai-generativelanguage==0.6.15 in /usr/local/lib/python3.11/dist-packages (from google-generativeai) (0.6.15)\n",
            "Requirement already satisfied: google-api-core in /usr/local/lib/python3.11/dist-packages (from google-generativeai) (2.24.2)\n",
            "Requirement already satisfied: google-api-python-client in /usr/local/lib/python3.11/dist-packages (from google-generativeai) (2.169.0)\n",
            "Requirement already satisfied: google-auth>=2.15.0 in /usr/local/lib/python3.11/dist-packages (from google-generativeai) (2.38.0)\n",
            "Requirement already satisfied: protobuf in /usr/local/lib/python3.11/dist-packages (from google-generativeai) (5.29.4)\n",
            "Requirement already satisfied: pydantic in /usr/local/lib/python3.11/dist-packages (from google-generativeai) (2.11.4)\n",
            "Requirement already satisfied: tqdm in /usr/local/lib/python3.11/dist-packages (from google-generativeai) (4.67.1)\n",
            "Requirement already satisfied: typing-extensions in /usr/local/lib/python3.11/dist-packages (from google-generativeai) (4.13.2)\n",
            "Requirement already satisfied: proto-plus<2.0.0dev,>=1.22.3 in /usr/local/lib/python3.11/dist-packages (from google-ai-generativelanguage==0.6.15->google-generativeai) (1.26.1)\n",
            "Requirement already satisfied: googleapis-common-protos<2.0.0,>=1.56.2 in /usr/local/lib/python3.11/dist-packages (from google-api-core->google-generativeai) (1.70.0)\n",
            "Requirement already satisfied: requests<3.0.0,>=2.18.0 in /usr/local/lib/python3.11/dist-packages (from google-api-core->google-generativeai) (2.32.3)\n",
            "Requirement already satisfied: cachetools<6.0,>=2.0.0 in /usr/local/lib/python3.11/dist-packages (from google-auth>=2.15.0->google-generativeai) (5.5.2)\n",
            "Requirement already satisfied: pyasn1-modules>=0.2.1 in /usr/local/lib/python3.11/dist-packages (from google-auth>=2.15.0->google-generativeai) (0.4.2)\n",
            "Requirement already satisfied: rsa<5,>=3.1.4 in /usr/local/lib/python3.11/dist-packages (from google-auth>=2.15.0->google-generativeai) (4.9.1)\n",
            "Requirement already satisfied: httplib2<1.0.0,>=0.19.0 in /usr/local/lib/python3.11/dist-packages (from google-api-python-client->google-generativeai) (0.22.0)\n",
            "Requirement already satisfied: google-auth-httplib2<1.0.0,>=0.2.0 in /usr/local/lib/python3.11/dist-packages (from google-api-python-client->google-generativeai) (0.2.0)\n",
            "Requirement already satisfied: uritemplate<5,>=3.0.1 in /usr/local/lib/python3.11/dist-packages (from google-api-python-client->google-generativeai) (4.1.1)\n",
            "Requirement already satisfied: annotated-types>=0.6.0 in /usr/local/lib/python3.11/dist-packages (from pydantic->google-generativeai) (0.7.0)\n",
            "Requirement already satisfied: pydantic-core==2.33.2 in /usr/local/lib/python3.11/dist-packages (from pydantic->google-generativeai) (2.33.2)\n",
            "Requirement already satisfied: typing-inspection>=0.4.0 in /usr/local/lib/python3.11/dist-packages (from pydantic->google-generativeai) (0.4.0)\n",
            "Requirement already satisfied: grpcio<2.0dev,>=1.33.2 in /usr/local/lib/python3.11/dist-packages (from google-api-core[grpc]!=2.0.*,!=2.1.*,!=2.10.*,!=2.2.*,!=2.3.*,!=2.4.*,!=2.5.*,!=2.6.*,!=2.7.*,!=2.8.*,!=2.9.*,<3.0.0dev,>=1.34.1->google-ai-generativelanguage==0.6.15->google-generativeai) (1.71.0)\n",
            "Requirement already satisfied: grpcio-status<2.0.dev0,>=1.33.2 in /usr/local/lib/python3.11/dist-packages (from google-api-core[grpc]!=2.0.*,!=2.1.*,!=2.10.*,!=2.2.*,!=2.3.*,!=2.4.*,!=2.5.*,!=2.6.*,!=2.7.*,!=2.8.*,!=2.9.*,<3.0.0dev,>=1.34.1->google-ai-generativelanguage==0.6.15->google-generativeai) (1.71.0)\n",
            "Requirement already satisfied: pyparsing!=3.0.0,!=3.0.1,!=3.0.2,!=3.0.3,<4,>=2.4.2 in /usr/local/lib/python3.11/dist-packages (from httplib2<1.0.0,>=0.19.0->google-api-python-client->google-generativeai) (3.2.3)\n",
            "Requirement already satisfied: pyasn1<0.7.0,>=0.6.1 in /usr/local/lib/python3.11/dist-packages (from pyasn1-modules>=0.2.1->google-auth>=2.15.0->google-generativeai) (0.6.1)\n",
            "Requirement already satisfied: charset-normalizer<4,>=2 in /usr/local/lib/python3.11/dist-packages (from requests<3.0.0,>=2.18.0->google-api-core->google-generativeai) (3.4.2)\n",
            "Requirement already satisfied: idna<4,>=2.5 in /usr/local/lib/python3.11/dist-packages (from requests<3.0.0,>=2.18.0->google-api-core->google-generativeai) (3.10)\n",
            "Requirement already satisfied: urllib3<3,>=1.21.1 in /usr/local/lib/python3.11/dist-packages (from requests<3.0.0,>=2.18.0->google-api-core->google-generativeai) (2.4.0)\n",
            "Requirement already satisfied: certifi>=2017.4.17 in /usr/local/lib/python3.11/dist-packages (from requests<3.0.0,>=2.18.0->google-api-core->google-generativeai) (2025.4.26)\n"
          ]
        }
      ],
      "source": [
        "!pip install google-generativeai"
      ]
    },
    {
      "cell_type": "markdown",
      "source": [
        "# Projeto: Guia Interativo de Exploração Urbana Personalizada\n",
        "\n",
        "## Modelo Atual: Curiosidades Sobre Igarassu\n",
        "\n",
        "Este notebook representa o MVP (Minimum Viable Product) inicial do projeto \"Guia Interativo de Exploração Urbana Personalizada\". O foco atual é utilizar a API Gemini para gerar e exibir curiosidades interessantes sobre a história da cidade de Igarassu, Pernambuco.\n",
        "\n",
        "Nos passos futuros, este projeto será expandido para incluir:\n",
        "\n",
        "- Mais categorias de interesse.\n",
        "- Suporte para diferentes cidades inseridas pelo usuário.\n",
        "- Uma interface de usuário mais interativa.\n",
        "- Possibilidade de coletar informações dos usuários.\n",
        "\n",
        "---"
      ],
      "metadata": {
        "id": "aWGOffyn0XD3"
      }
    },
    {
      "cell_type": "markdown",
      "source": [
        "Desvende os segredos e encantos das cidades com o \"Guia Interativo de Exploração Urbana Personalizada\"! 🗺️✨\n",
        "\n",
        "Este projeto inovador utiliza o poder da inteligência artificial (API Gemini) para transformar a maneira como você descobre novos lugares. Basta inserir a cidade desejada e a categoria de seu interesse (de história à gastronomia, de pontos turísticos a curiosidades), e o guia gera instantaneamente uma lista personalizada de pontos imperdíveis, com descrições cativantes para despertar a sua curiosidade.\n",
        "\n",
        "Quer saber mais sobre aquele lugar que te chamou a atenção? Com um simples clique em \"Ver Mais Detalhes\", mergulhe em informações completas, como endereço, horário de funcionamento e dicas de visita, tudo ao alcance dos seus dedos.\n",
        "\n",
        "O \"Guia Interativo\" é a ferramenta perfeita para o viajante moderno, o explorador local e qualquer pessoa ávida por descobrir a riqueza cultural e as maravilhas escondidas de cada cidade. Prepare-se para uma jornada de descobertas urbanas como nunca antes! 🚀🏙️"
      ],
      "metadata": {
        "id": "dmf1V_ECX6eU"
      }
    },
    {
      "cell_type": "code",
      "source": [
        "import ipywidgets as widgets\n",
        "from IPython.display import display, Markdown\n",
        "import google.generativeai as genai\n",
        "\n",
        "model = genai.GenerativeModel(model_name='gemini-2.0-flash')\n",
        "\n",
        "def exibir_markdown(texto):\n",
        "    display(Markdown(texto))"
      ],
      "metadata": {
        "id": "-o6-JPdGTOTI"
      },
      "execution_count": 19,
      "outputs": []
    },
    {
      "cell_type": "code",
      "source": [
        "from google.colab import userdata\n",
        "api_key = userdata.get('GEMINI_API_KEY')\n",
        "genai.configure(api_key=api_key)"
      ],
      "metadata": {
        "id": "_VGhEBE3LoK1"
      },
      "execution_count": 20,
      "outputs": []
    },
    {
      "cell_type": "code",
      "source": [
        "# Widget para a entrada da cidade\n",
        "cidade_input = widgets.Text(\n",
        "    value='',\n",
        "    placeholder='Digite a cidade',\n",
        "    description='Cidade:',\n",
        "    disabled=False\n",
        ")\n",
        "display(cidade_input)\n",
        "\n",
        "categorias = [\n",
        "    'História', 'Gastronomia', 'Pontos Turísticos', 'Cultura', 'Curiosidades',\n",
        "    'Arte de Rua', 'Parques e Áreas Naturais', 'Vida Noturna', 'Compras',\n",
        "    'Transporte e Mobilidade', 'Eventos Atuais', 'Dicas Locais'\n",
        "]\n",
        "categoria_dropdown = widgets.Dropdown(\n",
        "    options=categorias,\n",
        "    value='Pontos Turísticos', # Valor padrão\n",
        "    description='Categoria:',\n",
        "    disabled=False,\n",
        ")\n",
        "display(categoria_dropdown)\n",
        "\n",
        "num_pontos_slider = widgets.IntSlider(\n",
        "    value=3, min=1, max=5, step=1,\n",
        "    description='Nº de Pontos:', disabled=False, continuous_update=False,\n",
        "    orientation='horizontal', readout=True, readout_format='d'\n",
        ")\n",
        "display(num_pontos_slider)\n",
        "\n",
        "gerar_button = widgets.Button(description=\"Gerar Informação\")\n",
        "display(gerar_button)\n",
        "\n",
        "# Widget para selecionar o ponto para mais detalhes\n",
        "detalhes_dropdown = widgets.Dropdown(\n",
        "    options=[''], description='Detalhes do Ponto:', disabled=True\n",
        ")\n",
        "display(detalhes_dropdown)\n",
        "\n",
        "detalhes_button = widgets.Button(description=\"Ver Mais Detalhes\")\n",
        "display(detalhes_button)\n",
        "\n",
        "# Widget para exibir a mensagem de carregamento dos detalhes\n",
        "carregando_detalhes_label = widgets.Label(value=\"\")\n",
        "display(carregando_detalhes_label)\n",
        "\n",
        "pontos_interesse = []\n",
        "\n",
        "def on_gerar_button_clicked(b):\n",
        "    global pontos_interesse\n",
        "    cidade = cidade_input.value\n",
        "    categoria = categoria_dropdown.value\n",
        "    num_pontos = num_pontos_slider.value\n",
        "\n",
        "    if cidade and categoria and num_pontos:\n",
        "        prompt = f\"Liste {num_pontos} pontos de interesse em {cidade} na categoria de {categoria}. Para cada ponto, inclua uma breve descrição (máximo 2 frases) que possa despertar o interesse de um visitante. Formate a resposta como uma lista Markdown numerada.\"\n",
        "        response = model.generate_content(prompt)\n",
        "        print(f\"\\n{num_pontos} Pontos de Interesse em {cidade} ({categoria}):\")\n",
        "        if response.candidates and response.candidates[0].content.parts:\n",
        "            exibir_markdown(response.candidates[0].content.parts[0].text)\n",
        "\n",
        "        pontos_interesse = []\n",
        "        opcoes_dropdown = ['']\n",
        "        for linha in response.text.split('\\n'):\n",
        "            if linha and linha[0].isdigit() and '.' in linha:\n",
        "                nome_ponto = linha.split('.', 1)[1].strip().split(':')[0].strip()\n",
        "                if nome_ponto:\n",
        "                    pontos_interesse.append(nome_ponto)\n",
        "                    opcoes_dropdown.append(nome_ponto)\n",
        "\n",
        "        detalhes_dropdown.options = opcoes_dropdown\n",
        "        detalhes_dropdown.disabled = False\n",
        "    else:\n",
        "        print(\"\\nPor favor, digite o nome de uma cidade, selecione uma categoria e o número de pontos.\")\n",
        "        detalhes_dropdown.options = ['']\n",
        "        detalhes_dropdown.disabled = True\n",
        "\n",
        "gerar_button.on_click(on_gerar_button_clicked)\n",
        "\n",
        "def on_detalhes_button_clicked(b):\n",
        "    ponto_selecionado = detalhes_dropdown.value\n",
        "    cidade = cidade_input.value\n",
        "    categoria = categoria_dropdown.value\n",
        "\n",
        "    if ponto_selecionado and cidade and categoria:\n",
        "        carregando_detalhes_label.value = \"Carregando detalhes...\" # Exibe a mensagem\n",
        "        prompt_detalhes = f\"Forneça informações detalhadas sobre '{ponto_selecionado}' na categoria de {categoria} na cidade de {cidade}. Inclua detalhes como endereço, horário de funcionamento e qualquer outra informação relevante para um visitante.\"\n",
        "        response_detalhes = model.generate_content(prompt_detalhes)\n",
        "        carregando_detalhes_label.value = \"\" # Limpa a mensagem ao receber a resposta\n",
        "        print(f\"\\nDetalhes de '{ponto_selecionado}' em {cidade} ({categoria}):\")\n",
        "        if response_detalhes.candidates and response_detalhes.candidates[0].content.parts:\n",
        "            exibir_markdown(response_detalhes.candidates[0].content.parts[0].text)\n",
        "    else:\n",
        "        print(\"\\nPor favor, selecione um ponto para obter detalhes.\")\n",
        "        carregando_detalhes_label.value = \"\" # Limpa a mensagem em caso de erro\n",
        "\n",
        "detalhes_button.on_click(on_detalhes_button_clicked)"
      ],
      "metadata": {
        "colab": {
          "base_uri": "https://localhost:8080/",
          "height": 209,
          "referenced_widgets": [
            "09d1482127b240f0bc3fdc23982bfa0e",
            "e3c32b8766314724bb2d3bd57a3a022d",
            "0584f1d4a4904723af941ef7acc916a2",
            "c48db06595c645b382e7573559a0928f",
            "cc1490bd13da4b9eaf4f6c9029e2e9fc",
            "7ab97dd2316848bc84c76ae8221b5449",
            "196d8ecca46f4310b7cf3799edd02414",
            "0bf46e91633a438db69943559a43cb5e",
            "2375f38a5c234daebc1409a7981ea4e4",
            "3c13a2adf8e4476eb144e897d7f83f79",
            "d0c1106b8ceb46f893f683cc7d43c319",
            "6af3f3fd558e43ae8d5f3a2172210e99",
            "20ee88a1778c438b8457e3d6d3f45552",
            "cbf2257fb51d4a929359a379f216694b",
            "794842672db0436fa2e26c7ecf62c55d",
            "7e67cd75494e4e93a3ae0742cbfa9303",
            "f193ae9002de48d999dbc0e3ff7722d7",
            "5035fa3d80b44374a33a28a35e59562c",
            "ef85fbe2884642fba48257bf363859a4",
            "608b8f208ede4511924cb0df077ff65d",
            "b52d8ebf61e741ff8add9afb1cda7e50"
          ]
        },
        "id": "u1G9YFiw73Tp",
        "outputId": "0d0fd742-efd4-4398-f745-e9f40f991438",
        "collapsed": true
      },
      "execution_count": 21,
      "outputs": [
        {
          "output_type": "display_data",
          "data": {
            "text/plain": [
              "Text(value='', description='Cidade:', placeholder='Digite a cidade')"
            ],
            "application/vnd.jupyter.widget-view+json": {
              "version_major": 2,
              "version_minor": 0,
              "model_id": "09d1482127b240f0bc3fdc23982bfa0e"
            }
          },
          "metadata": {}
        },
        {
          "output_type": "display_data",
          "data": {
            "text/plain": [
              "Dropdown(description='Categoria:', index=2, options=('História', 'Gastronomia', 'Pontos Turísticos', 'Cultura'…"
            ],
            "application/vnd.jupyter.widget-view+json": {
              "version_major": 2,
              "version_minor": 0,
              "model_id": "c48db06595c645b382e7573559a0928f"
            }
          },
          "metadata": {}
        },
        {
          "output_type": "display_data",
          "data": {
            "text/plain": [
              "IntSlider(value=3, continuous_update=False, description='Nº de Pontos:', max=5, min=1)"
            ],
            "application/vnd.jupyter.widget-view+json": {
              "version_major": 2,
              "version_minor": 0,
              "model_id": "196d8ecca46f4310b7cf3799edd02414"
            }
          },
          "metadata": {}
        },
        {
          "output_type": "display_data",
          "data": {
            "text/plain": [
              "Button(description='Gerar Informação', style=ButtonStyle())"
            ],
            "application/vnd.jupyter.widget-view+json": {
              "version_major": 2,
              "version_minor": 0,
              "model_id": "3c13a2adf8e4476eb144e897d7f83f79"
            }
          },
          "metadata": {}
        },
        {
          "output_type": "display_data",
          "data": {
            "text/plain": [
              "Dropdown(description='Detalhes do Ponto:', disabled=True, options=('',), value='')"
            ],
            "application/vnd.jupyter.widget-view+json": {
              "version_major": 2,
              "version_minor": 0,
              "model_id": "20ee88a1778c438b8457e3d6d3f45552"
            }
          },
          "metadata": {}
        },
        {
          "output_type": "display_data",
          "data": {
            "text/plain": [
              "Button(description='Ver Mais Detalhes', style=ButtonStyle())"
            ],
            "application/vnd.jupyter.widget-view+json": {
              "version_major": 2,
              "version_minor": 0,
              "model_id": "7e67cd75494e4e93a3ae0742cbfa9303"
            }
          },
          "metadata": {}
        },
        {
          "output_type": "display_data",
          "data": {
            "text/plain": [
              "Label(value='')"
            ],
            "application/vnd.jupyter.widget-view+json": {
              "version_major": 2,
              "version_minor": 0,
              "model_id": "ef85fbe2884642fba48257bf363859a4"
            }
          },
          "metadata": {}
        }
      ]
    },
    {
      "cell_type": "code",
      "source": [
        "# Widget para exibir a mensagem de carregamento dos detalhes\n",
        "carregando_detalhes_label = widgets.Label(value=\"\")\n",
        "display(carregando_detalhes_label)"
      ],
      "metadata": {
        "colab": {
          "base_uri": "https://localhost:8080/",
          "height": 21,
          "referenced_widgets": [
            "ca29d08156f3418486979d9c9a0a34ec",
            "50cc8914e63f44e8b54c6e4b22e68147",
            "a292fd45fb394eff8f2391e10062d82f"
          ]
        },
        "collapsed": true,
        "id": "4sdCIQFz5_iX",
        "outputId": "1356e37b-4654-489c-ad5d-eb7155296c5b"
      },
      "execution_count": 22,
      "outputs": [
        {
          "output_type": "display_data",
          "data": {
            "text/plain": [
              "Label(value='')"
            ],
            "application/vnd.jupyter.widget-view+json": {
              "version_major": 2,
              "version_minor": 0,
              "model_id": "ca29d08156f3418486979d9c9a0a34ec"
            }
          },
          "metadata": {}
        }
      ]
    },
    {
      "cell_type": "code",
      "source": [
        "# Widget para a entrada de sugestões do usuário\n",
        "sugestao_label = widgets.Label(value=\"Compartilhe suas dicas e informações adicionais:\")\n",
        "sugestao_text = widgets.Textarea(\n",
        "    value='',\n",
        "    placeholder='Digite sua sugestão aqui...',\n",
        "    description='Sugestão:',\n",
        "    disabled=False,\n",
        "    rows=3\n",
        ")\n",
        "\n",
        "ponto_referencia_label = widgets.Label(value=\"Sobre qual ponto?\")\n",
        "ponto_referencia_text = widgets.Text(\n",
        "    value='',\n",
        "    placeholder='Nome do ponto...',\n",
        "    description='Ponto:',\n",
        "    disabled=False\n",
        ")\n",
        "\n",
        "enviar_sugestao_button = widgets.Button(description=\"Enviar Sugestão\")\n",
        "output_sugestao = widgets.Output()\n",
        "\n",
        "display(sugestao_label, sugestao_text, ponto_referencia_label, ponto_referencia_text, enviar_sugestao_button, output_sugestao)\n",
        "\n",
        "sugestoes_usuarios = []\n",
        "\n",
        "def on_enviar_sugestao_clicked(b):\n",
        "    with output_sugestao:\n",
        "        output_sugestao.clear_output()\n",
        "        sugestao = sugestao_text.value\n",
        "        ponto = ponto_referencia_text.value\n",
        "        if sugestao and ponto:\n",
        "            sugestoes_usuarios.append({\"ponto\": ponto, \"sugestao\": sugestao})\n",
        "            print(f\"Obrigado! Sua sugestão sobre '{ponto}' foi enviada.\")\n",
        "            sugestao_text.value = ''\n",
        "            ponto_referencia_text.value = ''\n",
        "        else:\n",
        "            print(\"Por favor, digite sua sugestão e o nome do ponto.\")\n",
        "\n",
        "enviar_sugestao_button.on_click(on_enviar_sugestao_clicked)"
      ],
      "metadata": {
        "colab": {
          "base_uri": "https://localhost:8080/",
          "height": 201,
          "referenced_widgets": [
            "7343ba70ec2d4b4d9e1ff9728963f5be",
            "83a74684ba484af1869e2225b4f08a67",
            "98cbee1a95e443fa87dc9b18d46c4de6",
            "0a9994e3803f4683b94ae8631a0f0b1b",
            "497f9d1a0da344a59e7729cd9dd0446e",
            "ee28be45ae5d444bbabe48a0c0bf0d37",
            "87e5dc9258b44cae8b08022a36ab522a",
            "0942778be6934f43b15aef1160c81ed8",
            "61698166257e49e88d82dc92b565463c",
            "78722b27c54648e7b44685f73d07e98f",
            "f1b7a338e0f9453a8856fa3fb6348ff2",
            "3a17bff44f33400fa6f226f57fb70816",
            "2e978d9ee0d9474f9dc0faae230beed3",
            "9044f5f4d6b7462fa8434744c95a202d",
            "2e7be43a23d646caae53d941fe74077c",
            "10eeda29ee0d45a88bf7d148fe78475e",
            "94de471e89c24efa9b0fdfe23a94a603"
          ]
        },
        "id": "QOVEk3WPbmuB",
        "outputId": "cfa7eb3a-7bed-465e-e60a-3c01ddea1d3f"
      },
      "execution_count": 23,
      "outputs": [
        {
          "output_type": "display_data",
          "data": {
            "text/plain": [
              "Label(value='Compartilhe suas dicas e informações adicionais:')"
            ],
            "application/vnd.jupyter.widget-view+json": {
              "version_major": 2,
              "version_minor": 0,
              "model_id": "7343ba70ec2d4b4d9e1ff9728963f5be"
            }
          },
          "metadata": {}
        },
        {
          "output_type": "display_data",
          "data": {
            "text/plain": [
              "Textarea(value='', description='Sugestão:', placeholder='Digite sua sugestão aqui...', rows=3)"
            ],
            "application/vnd.jupyter.widget-view+json": {
              "version_major": 2,
              "version_minor": 0,
              "model_id": "0a9994e3803f4683b94ae8631a0f0b1b"
            }
          },
          "metadata": {}
        },
        {
          "output_type": "display_data",
          "data": {
            "text/plain": [
              "Label(value='Sobre qual ponto?')"
            ],
            "application/vnd.jupyter.widget-view+json": {
              "version_major": 2,
              "version_minor": 0,
              "model_id": "87e5dc9258b44cae8b08022a36ab522a"
            }
          },
          "metadata": {}
        },
        {
          "output_type": "display_data",
          "data": {
            "text/plain": [
              "Text(value='', description='Ponto:', placeholder='Nome do ponto...')"
            ],
            "application/vnd.jupyter.widget-view+json": {
              "version_major": 2,
              "version_minor": 0,
              "model_id": "78722b27c54648e7b44685f73d07e98f"
            }
          },
          "metadata": {}
        },
        {
          "output_type": "display_data",
          "data": {
            "text/plain": [
              "Button(description='Enviar Sugestão', style=ButtonStyle())"
            ],
            "application/vnd.jupyter.widget-view+json": {
              "version_major": 2,
              "version_minor": 0,
              "model_id": "2e978d9ee0d9474f9dc0faae230beed3"
            }
          },
          "metadata": {}
        },
        {
          "output_type": "display_data",
          "data": {
            "text/plain": [
              "Output()"
            ],
            "application/vnd.jupyter.widget-view+json": {
              "version_major": 2,
              "version_minor": 0,
              "model_id": "10eeda29ee0d45a88bf7d148fe78475e"
            }
          },
          "metadata": {}
        }
      ]
    },
    {
      "cell_type": "code",
      "source": [
        "from IPython.display import HTML, display"
      ],
      "metadata": {
        "id": "13m3IDZzx9cO"
      },
      "execution_count": 24,
      "outputs": []
    }
  ]
}